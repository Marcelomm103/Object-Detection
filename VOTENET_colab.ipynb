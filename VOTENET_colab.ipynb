{
  "nbformat": 4,
  "nbformat_minor": 0,
  "metadata": {
    "colab": {
      "name": "VOTENET-colab.ipynb",
      "provenance": [],
      "collapsed_sections": []
    },
    "kernelspec": {
      "name": "python3",
      "display_name": "Python 3"
    },
    "accelerator": "GPU"
  },
  "cells": [
    {
      "cell_type": "code",
      "metadata": {
        "id": "3D3oY8ptPUke"
      },
      "source": [
        "# Multi 3D Object Detection CNN (https://github.com/facebookresearch/votenet)\n",
        "\n",
        "!pip install torch==1.1.0 torchvision==0.3.0\n",
        "!pip install tensorflow==1.14\n",
        "!pip install matplotlib\n",
        "!pip install opencv-python\n",
        "!pip install plyfile\n",
        "!pip install trimesh==2.35.39\n",
        "!pip install networkx==2.2"
      ],
      "execution_count": null,
      "outputs": []
    },
    {
      "cell_type": "code",
      "metadata": {
        "id": "_Iua-850BVvU"
      },
      "source": [
        "!git clone https://github.com/facebookresearch/votenet\n",
        "\n",
        "%cd votenet/pointnet2\n",
        "\n",
        "!python setup.py install"
      ],
      "execution_count": null,
      "outputs": []
    },
    {
      "cell_type": "code",
      "metadata": {
        "id": "UK0pp6CvQh0S"
      },
      "source": [
        "%cd -\n",
        "%cd votenet\n",
        "\n",
        "!python models/votenet.py"
      ],
      "execution_count": null,
      "outputs": []
    },
    {
      "cell_type": "code",
      "metadata": {
        "id": "xWg5FY2KZw48"
      },
      "source": [
        "# Save the datasets to your google drive\n",
        "\n",
        "from google.colab import drive\n",
        "\n",
        "drive.mount('/content/drive')\n",
        "\n",
        "!ls \"/content/drive/My Drive\"\n",
        "\n",
        "# Pretrained Data (https://drive.google.com/file/d/1oem0w5y5pjo2whBhAqTtuaYuyBu1OG8l/view?usp=sharing)\n",
        "\n",
        "!cp \"/content/drive/My Drive/votenet_pretrained_models.zip\" \"votenet_pretrained_models.zip\"\n",
        "\n",
        "!unzip votenet_pretrained_models.zip\n",
        "\n",
        "# SUNRGBD (https://github.com/facebookresearch/votenet/blob/master/sunrgbd/README.md)\n",
        "\n",
        "# SCANNET (https://github.com/facebookresearch/votenet/blob/master/scannet/README.md)\n"
      ],
      "execution_count": null,
      "outputs": []
    },
    {
      "cell_type": "code",
      "metadata": {
        "id": "RP-0BK5WgKcU"
      },
      "source": [
        "# DEMO UNDER SUNRGBD DATASET (depth images):\n",
        "\n",
        "!python demo.py"
      ],
      "execution_count": null,
      "outputs": []
    },
    {
      "cell_type": "code",
      "metadata": {
        "id": "TtU6AiGMiusI"
      },
      "source": [
        "# TRAIN UNDER SUNRGBD DATASET \n",
        "\n",
        "!python train.py --dataset sunrgbd --log_dir log_sunrgbd"
      ],
      "execution_count": null,
      "outputs": []
    },
    {
      "cell_type": "code",
      "metadata": {
        "id": "foW6XLVpjT35"
      },
      "source": [
        "# TEST UNDER SUNRGBD TRAINED\n",
        "\n",
        "!python eval.py --dataset sunrgbd --checkpoint_path log_sunrgbd/checkpoint.tar --dump_dir eval_sunrgbd --cluster_sampling seed_fps --use_3d_nms --use_cls_nms --per_class_proposal\n",
        "\n",
        "# Results will be in eval_sunrgbd folder"
      ],
      "execution_count": null,
      "outputs": []
    },
    {
      "cell_type": "code",
      "metadata": {
        "id": "sFS5Kdu3YQaP"
      },
      "source": [
        "# DEMO UNDER SCANNET DATASET (fused scan):\n",
        "\n",
        "!python demo.py --dataset scannet --num_point 40000"
      ],
      "execution_count": null,
      "outputs": []
    },
    {
      "cell_type": "code",
      "metadata": {
        "id": "fJFyY2z6jkAQ"
      },
      "source": [
        "# TRAIN UNDER SCANNET DATASET\n",
        "\n",
        "!python train.py --dataset scannet --log_dir log_scannet --num_point 40000"
      ],
      "execution_count": null,
      "outputs": []
    },
    {
      "cell_type": "code",
      "metadata": {
        "id": "Y-L2m12rjkii"
      },
      "source": [
        "# TEST UNDER SCANNET TRAINED\n",
        "\n",
        "!python eval.py --dataset scannet --checkpoint_path log_scannet/checkpoint.tar --dump_dir eval_scannet --num_point 40000 --cluster_sampling seed_fps --use_3d_nms --use_cls_nms --per_class_proposal\n",
        "\n",
        "# Results will be in eval_scannet folder"
      ],
      "execution_count": null,
      "outputs": []
    }
  ]
}